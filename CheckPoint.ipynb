{
 "cells": [
  {
   "cell_type": "code",
   "execution_count": 1,
   "metadata": {},
   "outputs": [
    {
     "name": "stdout",
     "output_type": "stream",
     "text": [
      "2002 2009 2016 2023 2037 2044 2051 2058 2072 2079 2086 2093 2107 2114 2121 2128 2142 2149 2156 2163 2177 2184 2191 2198 2212 2219 2226 2233 2247 2254 2261 2268 2282 2289 2296 2303 2317 2324 2331 2338 2352 2359 2366 2373 2387 2394 2401 2408 2422 2429 2436 2443 2457 2464 2471 2478 2492 2499 2506 2513 2527 2534 2541 2548 2562 2569 2576 2583 2597 2604 2611 2618 2632 2639 2646 2653 2667 2674 2681 2688 2702 2709 2716 2723 2737 2744 2751 2758 2772 2779 2786 2793 2807 2814 2821 2828 2842 2849 2856 2863 2877 2884 2891 2898 2912 2919 2926 2933 2947 2954 2961 2968 2982 2989 2996 3003 3017 3024 3031 3038 3052 3059 3066 3073 3087 3094 3101 3108 3122 3129 3136 3143 3157 3164 3171 3178 3192 3199\n"
     ]
    }
   ],
   "source": [
    "#Problem 1\n",
    "multiples7=[]\n",
    "chosen_numbers=[]\n",
    "for i in range(2000,3201):\n",
    "    if i%7==0:\n",
    "        multiples7.append(i)\n",
    "for i in multiples7:\n",
    "    if i%5!=0:\n",
    "        chosen_numbers.append(i)\n",
    "print(\" \".join(map(str,chosen_numbers)))#or we can do this:print(*chosen_numbers,sep=\" \")"
   ]
  },
  {
   "cell_type": "code",
   "execution_count": 9,
   "metadata": {},
   "outputs": [
    {
     "name": "stdin",
     "output_type": "stream",
     "text": [
      "Enter a number to get its factorial 0\n"
     ]
    },
    {
     "name": "stdout",
     "output_type": "stream",
     "text": [
      "the factorial of 0 is 1\n"
     ]
    }
   ],
   "source": [
    "#Problem2\n",
    "#apply the recursion definition of a factorial\n",
    "x=int(input(\"Enter a number to get its factorial\"))\n",
    "\n",
    "def factorial(x):\n",
    "    if x==0:\n",
    "        return 1\n",
    "    else:\n",
    "       return x*factorial(x-1)\n",
    "        \n",
    "print('the factorial of',x,'is',factorial(x))\n",
    "        \n",
    "    "
   ]
  },
  {
   "cell_type": "code",
   "execution_count": 13,
   "metadata": {},
   "outputs": [
    {
     "name": "stdin",
     "output_type": "stream",
     "text": [
      "enter a number 8\n"
     ]
    },
    {
     "name": "stdout",
     "output_type": "stream",
     "text": [
      "{1: 1, 2: 4, 3: 9, 4: 16, 5: 25, 6: 36, 7: 49, 8: 64}\n"
     ]
    }
   ],
   "source": [
    "#Problem 3\n",
    "n=int(input('enter a number'))\n",
    "dictionary={}\n",
    "for i in range (1,n+1):\n",
    "    x=i**2\n",
    "    dictionary[i]=i**2\n",
    "print(dictionary)\n",
    "    \n",
    "    \n"
   ]
  },
  {
   "cell_type": "code",
   "execution_count": null,
   "metadata": {},
   "outputs": [],
   "source": [
    "#Problem 4\n",
    "chosen_word=input('choose a word to remove a string from it')\n",
    "index=int(input('choose the index of the letter you want to remove'))\n",
    "def missing_char(word,letter):\n",
    "        if letter>len(word)-1:\n",
    "          return 'enter a valid index'\n",
    "          \n",
    "        word=word[:letter]+word[(letter+1):]\n",
    "        return word\n",
    "print('missing_char(',chosen_word,',',index,'),--->',missing_char(chosen_word,index))\n",
    "            "
   ]
  },
  {
   "cell_type": "code",
   "execution_count": 3,
   "metadata": {},
   "outputs": [
    {
     "name": "stdin",
     "output_type": "stream",
     "text": [
      "how many numbers you want to put in your variable sequence 3\n",
      "enter the number you want to put in the sequence 100\n",
      "enter the number you want to put in the sequence 150\n",
      "enter the number you want to put in the sequence 80\n"
     ]
    },
    {
     "name": "stdout",
     "output_type": "stream",
     "text": [
      "here is your variable sequence 100,150,80\n",
      "here are the results 18,22,16\n"
     ]
    }
   ],
   "source": [
    "#Problem 5:\n",
    "import numpy as np\n",
    "lst=[]\n",
    "\n",
    "n_rows = int(input(\"Enter number of rows: \"))\n",
    "n_cols = int(input(\"Enter number of columns: \"))\n",
    "\n",
    "arr = [[int(input(\"Enter value for {}. row and {}. column: \".format(r + 1, c + 1))) for c in range(n_cols)] for r in range(n_rows)]\n",
    "\n",
    "print(np.array(arr))\n",
    "for i in arr:\n",
    "  lst.append(i)\n",
    "print('Array to list:', lst)\n",
    "  \n",
    "\n"
   ]
  },
  {
   "cell_type": "raw",
   "metadata": {},
   "source": []
  },
  {
   "cell_type": "code",
   "execution_count": null,
   "metadata": {},
   "outputs": [],
   "source": [
    "#Problem 6:\n",
    "import numpy as np\n",
    "\n",
    "n_rows = int(input(\"Enter number of rows of the 1st array: \"))\n",
    "n_cols = int(input(\"Enter number of columns of the 1st array: \"))\n",
    "\n",
    "firstarr = [[int(input(\"Enter value for {}. row and {}. column: \".format(r + 1, c + 1))) for c in range(n_cols)] for r in range(n_rows)]\n",
    "\n",
    "t_rows = int(input(\"Enter number of rows of the 2nd array:\"))\n",
    "t_cols = int(input(\"Enter number of columns of the 2nd array: \"))\n",
    "\n",
    "secondarr = [[int(input(\"Enter value for {}. row and {}. column: \".format(i + 1, p + 1))) for i in range(t_cols)] for p in range(t_rows)]\n",
    "covariance_of_2arrays=np.cov(firstarr,secondarr)\n",
    "print(covariance_of_2arrays)"
   ]
  },
  {
   "cell_type": "code",
   "execution_count": null,
   "metadata": {},
   "outputs": [],
   "source": []
  },
  {
   "cell_type": "code",
   "execution_count": null,
   "metadata": {},
   "outputs": [],
   "source": [
    "#Problem 7:\n",
    "C=50\n",
    "H=30\n",
    "sequence=[]\n",
    "resultsequence=[]\n",
    "lensequence=int(input('how many numbers you want to put in your variable sequence'))\n",
    "for i in range(lensequence):\n",
    "  n=int(input('enter the number you want to put in the sequence'))\n",
    "  sequence.append(n)\n",
    "  \n",
    "\n",
    "for j in sequence:\n",
    "  D=j\n",
    "  result=((C*D*2)/H)**(0.5)\n",
    "  resultsequence.append(round(result))\n",
    "sequence=[str(i)for i in sequence]\n",
    "\n",
    "print(\"here is your variable sequence\",','.join(sequence))\n",
    "resultsequence=[str(p)for p in resultsequence]\n",
    "print(\"here are the results\",','.join(resultsequence))"
   ]
  }
 ],
 "metadata": {
  "kernelspec": {
   "display_name": "Python 3",
   "language": "python",
   "name": "python3"
  },
  "language_info": {
   "codemirror_mode": {
    "name": "ipython",
    "version": 3
   },
   "file_extension": ".py",
   "mimetype": "text/x-python",
   "name": "python",
   "nbconvert_exporter": "python",
   "pygments_lexer": "ipython3",
   "version": "3.7.6"
  }
 },
 "nbformat": 4,
 "nbformat_minor": 4
}
